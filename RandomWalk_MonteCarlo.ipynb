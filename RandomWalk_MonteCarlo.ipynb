{
 "cells": [
  {
   "cell_type": "code",
   "execution_count": 3,
   "metadata": {},
   "outputs": [],
   "source": [
    "import random\n",
    "\n",
    "def random_walk(n):\n",
    "    \"\"\"Returns coordinates after 'n' block random walk.\"\"\"\n",
    "    x = 0\n",
    "    y = 0\n",
    "    \n",
    "    for i in range(n):\n",
    "        step = random.choice(['N','S','E','W'])\n",
    "        \n",
    "        if step == 'N':\n",
    "            y += 1\n",
    "        elif step == 'S':\n",
    "            y -= 1\n",
    "        elif step == 'E':\n",
    "            x +=1\n",
    "        else:\n",
    "            x -= 1\n",
    "    return (x,y)               "
   ]
  },
  {
   "cell_type": "code",
   "execution_count": 4,
   "metadata": {},
   "outputs": [
    {
     "name": "stdout",
     "output_type": "stream",
     "text": [
      "(-2, -4) Distance from home = 6\n",
      "(4, -4) Distance from home = 8\n",
      "(-2, 2) Distance from home = 4\n",
      "(4, 0) Distance from home = 4\n",
      "(-4, 2) Distance from home = 6\n",
      "(1, -3) Distance from home = 4\n",
      "(2, -2) Distance from home = 4\n",
      "(3, -3) Distance from home = 6\n",
      "(-2, -2) Distance from home = 4\n",
      "(-1, 3) Distance from home = 4\n",
      "(1, -1) Distance from home = 2\n",
      "(3, -1) Distance from home = 4\n",
      "(-5, 1) Distance from home = 6\n",
      "(-1, -3) Distance from home = 4\n",
      "(0, -2) Distance from home = 2\n",
      "(2, -4) Distance from home = 6\n",
      "(-1, -1) Distance from home = 2\n",
      "(3, 3) Distance from home = 6\n",
      "(1, -3) Distance from home = 4\n",
      "(-2, 2) Distance from home = 4\n",
      "(-1, -1) Distance from home = 2\n",
      "(-2, 4) Distance from home = 6\n",
      "(1, 3) Distance from home = 4\n",
      "(0, -4) Distance from home = 4\n",
      "(0, 2) Distance from home = 2\n"
     ]
    }
   ],
   "source": [
    "for i in range(25):\n",
    "    walk = random_walk(10)\n",
    "    print(f\"{walk} Distance from home = {abs(walk[0]) + abs(walk[1])}\")"
   ]
  },
  {
   "cell_type": "code",
   "execution_count": 5,
   "metadata": {},
   "outputs": [],
   "source": [
    "def random_walk2(n):\n",
    "    \"\"\"Returns coordinates after 'n' block random walk.\"\"\"\n",
    "    x, y = 0, 0\n",
    "    for i in range(n):\n",
    "        (dx, dy) = random.choice([(0,1), (0, -1), (1,0), (-1,0)])\n",
    "        x += dx\n",
    "        y += dy\n",
    "    return (x,y)"
   ]
  },
  {
   "cell_type": "code",
   "execution_count": 6,
   "metadata": {},
   "outputs": [
    {
     "name": "stdout",
     "output_type": "stream",
     "text": [
      "(0, 2) Distance from home = 2\n",
      "(-1, -1) Distance from home = 2\n",
      "(0, 0) Distance from home = 0\n",
      "(0, 0) Distance from home = 0\n",
      "(-2, -2) Distance from home = 4\n",
      "(0, -4) Distance from home = 4\n",
      "(-3, 3) Distance from home = 6\n",
      "(0, 2) Distance from home = 2\n",
      "(-1, -1) Distance from home = 2\n",
      "(0, -4) Distance from home = 4\n",
      "(-3, 1) Distance from home = 4\n",
      "(4, -2) Distance from home = 6\n",
      "(-2, 2) Distance from home = 4\n",
      "(2, -2) Distance from home = 4\n",
      "(-1, -1) Distance from home = 2\n",
      "(2, -2) Distance from home = 4\n",
      "(3, -1) Distance from home = 4\n",
      "(1, -1) Distance from home = 2\n",
      "(-1, 1) Distance from home = 2\n",
      "(1, 1) Distance from home = 2\n",
      "(2, 0) Distance from home = 2\n",
      "(-1, -3) Distance from home = 4\n",
      "(0, 2) Distance from home = 2\n",
      "(1, 1) Distance from home = 2\n",
      "(1, 3) Distance from home = 4\n"
     ]
    }
   ],
   "source": [
    "for i in range(25):\n",
    "    walk = random_walk2(10)\n",
    "    print(f\"{walk} Distance from home = {abs(walk[0]) + abs(walk[1])}\")"
   ]
  },
  {
   "cell_type": "code",
   "execution_count": 7,
   "metadata": {},
   "outputs": [
    {
     "name": "stdout",
     "output_type": "stream",
     "text": [
      "For walk size = 1,% of no transport = 1.0 \n",
      "For walk size = 2,% of no transport = 1.0 \n",
      "For walk size = 3,% of no transport = 1.0 \n",
      "For walk size = 4,% of no transport = 1.0 \n",
      "For walk size = 5,% of no transport = 0.8749 \n",
      "For walk size = 6,% of no transport = 0.94 \n",
      "For walk size = 7,% of no transport = 0.7712 \n",
      "For walk size = 8,% of no transport = 0.8668 \n",
      "For walk size = 9,% of no transport = 0.6783 \n",
      "For walk size = 10,% of no transport = 0.7992 \n",
      "For walk size = 11,% of no transport = 0.6 \n",
      "For walk size = 12,% of no transport = 0.726 \n",
      "For walk size = 13,% of no transport = 0.5457 \n",
      "For walk size = 14,% of no transport = 0.6747 \n",
      "For walk size = 15,% of no transport = 0.4859 \n",
      "For walk size = 16,% of no transport = 0.6256 \n",
      "For walk size = 17,% of no transport = 0.4539 \n",
      "For walk size = 18,% of no transport = 0.5922 \n",
      "For walk size = 19,% of no transport = 0.4132 \n",
      "For walk size = 20,% of no transport = 0.5371 \n",
      "For walk size = 21,% of no transport = 0.3764 \n",
      "For walk size = 22,% of no transport = 0.5149 \n",
      "For walk size = 23,% of no transport = 0.3541 \n",
      "For walk size = 24,% of no transport = 0.482 \n",
      "For walk size = 25,% of no transport = 0.3333 \n",
      "For walk size = 26,% of no transport = 0.4533 \n",
      "For walk size = 27,% of no transport = 0.3174 \n",
      "For walk size = 28,% of no transport = 0.4304 \n",
      "For walk size = 29,% of no transport = 0.2973 \n",
      "For walk size = 30,% of no transport = 0.4108 \n"
     ]
    }
   ],
   "source": [
    "number_of_walks = 10000\n",
    "\n",
    "for walk_length in range(1,31):\n",
    "    no_transport = 0 # Number of walks <= 4\n",
    "    for i in range(number_of_walks):\n",
    "        (x,y) = random_walk(walk_length)\n",
    "        distance = abs(x) + abs(y)\n",
    "        if distance <= 4:\n",
    "            no_transport += 1\n",
    "    no_transport_percentage = no_transport/number_of_walks\n",
    "    print(f\"For walk size = {walk_length},% of no transport = {no_transport_percentage} \")\n",
    "        "
   ]
  },
  {
   "cell_type": "code",
   "execution_count": null,
   "metadata": {},
   "outputs": [],
   "source": []
  }
 ],
 "metadata": {
  "kernelspec": {
   "display_name": "Python 3",
   "language": "python",
   "name": "python3"
  },
  "language_info": {
   "codemirror_mode": {
    "name": "ipython",
    "version": 3
   },
   "file_extension": ".py",
   "mimetype": "text/x-python",
   "name": "python",
   "nbconvert_exporter": "python",
   "pygments_lexer": "ipython3",
   "version": "3.7.3"
  }
 },
 "nbformat": 4,
 "nbformat_minor": 2
}
