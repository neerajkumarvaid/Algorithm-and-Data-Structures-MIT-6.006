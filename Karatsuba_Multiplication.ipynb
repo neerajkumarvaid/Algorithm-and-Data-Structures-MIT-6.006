{
 "cells": [
  {
   "cell_type": "code",
   "execution_count": 1,
   "metadata": {},
   "outputs": [],
   "source": [
    "from math import ceil, floor\n",
    "\n",
    "def karatsuba(x,y):\n",
    "    #base case\n",
    "    if x < 10 and y < 10: # in other words, if x and y are single digits\n",
    "        return x*y\n",
    "\n",
    "    n = max(len(str(x)), len(str(y)))\n",
    "    m = ceil(n/2)   #Cast n into a float because n might lie outside the representable range of integers.\n",
    "\n",
    "    x_H  = floor(x / 10**m)\n",
    "    x_L = x % (10**m)\n",
    "\n",
    "    y_H = floor(y / 10**m)\n",
    "    y_L = y % (10**m)\n",
    "\n",
    "    #recursive steps\n",
    "    a = karatsuba(x_H,y_H)\n",
    "    d = karatsuba(x_L,y_L)\n",
    "    \n",
    "    e = karatsuba(x_H + x_L, y_H + y_L) - a - d\n",
    "\n",
    "    return int(a*(10**(m*2)) + e*(10**m) + d)"
   ]
  },
  {
   "cell_type": "code",
   "execution_count": 6,
   "metadata": {},
   "outputs": [
    {
     "name": "stdout",
     "output_type": "stream",
     "text": [
      "144\n",
      "0\n",
      "5332114\n",
      "8539734222673566957498846900491595793628487889746454950813687461572372213054499114931277629325900131223124341791952806582723184\n"
     ]
    }
   ],
   "source": [
    "print(karatsuba(12,12))\n",
    "print(karatsuba(0,0))\n",
    "print(karatsuba(1234,4321))\n",
    "print(karatsuba(3141592653589793238462643383279502884197169399375105820974944592,\n",
    "               2718281828459045235360287471352662497757247093699959574966967627))"
   ]
  }
 ],
 "metadata": {
  "kernelspec": {
   "display_name": "Python 3",
   "language": "python",
   "name": "python3"
  },
  "language_info": {
   "codemirror_mode": {
    "name": "ipython",
    "version": 3
   },
   "file_extension": ".py",
   "mimetype": "text/x-python",
   "name": "python",
   "nbconvert_exporter": "python",
   "pygments_lexer": "ipython3",
   "version": "3.7.3"
  }
 },
 "nbformat": 4,
 "nbformat_minor": 2
}
