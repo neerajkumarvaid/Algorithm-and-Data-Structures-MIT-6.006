{
 "cells": [
  {
   "cell_type": "code",
   "execution_count": 1,
   "metadata": {},
   "outputs": [],
   "source": [
    "# Breadth first search (or traversal) in a given graph 'G' from a given source vetex 's'"
   ]
  },
  {
   "cell_type": "code",
   "execution_count": 19,
   "metadata": {},
   "outputs": [],
   "source": [
    "from collections import defaultdict\n",
    "\n",
    "# This class represents a graph using adjacency list representation\n",
    "class Graph:\n",
    "    # Constructor\n",
    "    def __init__(self):\n",
    "        # Each vertex of graph is represented as a key in the dictionary\n",
    "        # whose value is the list containing all vertices that can be\n",
    "        # reached in one step from that vertex\n",
    "        self.graph = defaultdict(list)\n",
    "        \n",
    "    def addEdge(self, u, v):\n",
    "        \"\"\"A function to add an edge u <-> v to the graph\"\"\"\n",
    "        self.graph[u].append(v)\n",
    "        \n",
    "    def BFS(self, s):\n",
    "        \n",
    "        # Mark all vertices as not visited\n",
    "        visited = [False]*len(self.graph)\n",
    "        \n",
    "        # Create a queue of nodes for BFS\n",
    "        queue = [s] # intially the source vertex is visited\n",
    "        visited[s] = True\n",
    "        \n",
    "        while queue:\n",
    "            # Dequeue a vertex from the queue and print it\n",
    "            u = queue.pop(0)\n",
    "            print(f\"Current node {u}\")\n",
    "            \n",
    "            # Visit all adjacent vertices of node u \n",
    "            # and mark them visited (if not visited already) to avoid looping\n",
    "            for v in self.graph[u]:\n",
    "                if visited[v] == False:\n",
    "                    queue.append(v)\n",
    "                    visited[v] = True"
   ]
  },
  {
   "cell_type": "code",
   "execution_count": 20,
   "metadata": {},
   "outputs": [],
   "source": [
    "G = Graph()\n",
    "G.addEdge(0,1)\n",
    "G.addEdge(0, 2) \n",
    "G.addEdge(1, 2) \n",
    "G.addEdge(2, 0) \n",
    "g.addEdge(2, 3) \n",
    "g.addEdge(3, 3) "
   ]
  },
  {
   "cell_type": "code",
   "execution_count": 21,
   "metadata": {},
   "outputs": [
    {
     "name": "stdout",
     "output_type": "stream",
     "text": [
      "Following is Breadth First Traversal (starting from vertex 2)\n",
      "Current node 2\n",
      "Current node 0\n",
      "Current node 3\n",
      "Current node 1\n"
     ]
    }
   ],
   "source": [
    "print (\"Following is Breadth First Traversal\"\n",
    "                  \" (starting from vertex 2)\") \n",
    "g.BFS(2)"
   ]
  }
 ],
 "metadata": {
  "kernelspec": {
   "display_name": "Python 3",
   "language": "python",
   "name": "python3"
  },
  "language_info": {
   "codemirror_mode": {
    "name": "ipython",
    "version": 3
   },
   "file_extension": ".py",
   "mimetype": "text/x-python",
   "name": "python",
   "nbconvert_exporter": "python",
   "pygments_lexer": "ipython3",
   "version": "3.7.3"
  }
 },
 "nbformat": 4,
 "nbformat_minor": 2
}
