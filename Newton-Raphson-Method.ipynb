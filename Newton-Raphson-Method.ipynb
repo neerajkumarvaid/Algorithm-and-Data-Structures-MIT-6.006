{
 "cells": [
  {
   "cell_type": "code",
   "execution_count": 1,
   "metadata": {},
   "outputs": [],
   "source": [
    "def dx(f, x):\n",
    "    \"\"\"Computes how far is the function f(x) from zero at x.\"\"\"\n",
    "    return abs(0-f(x))\n",
    " \n",
    "def newtons_method(f, df, x0, e):\n",
    "    delta = dx(f, x0) # compute how far f(x) is from 0 at x\n",
    "    while delta > e: # Iterate unitll abs(0-f(x)) < epsilon \n",
    "        x0 = x0 - f(x0)/df(x0) # compute the next value of x as: x(i+1) = x(i) - f(x(i))/f'(x(i))\n",
    "        delta = dx(f, x0) # Update how far the new guess is from 0\n",
    "    print(f\"Root is at: {x0}\")\n",
    "    print(f\"f(x) at root is: {f(x0)}\")"
   ]
  },
  {
   "cell_type": "code",
   "execution_count": 2,
   "metadata": {},
   "outputs": [],
   "source": [
    "def f(x):\n",
    "    return 6*x**5-5*x**4-4*x**3+3*x**2\n",
    " \n",
    "def df(x):\n",
    "    return 30*x**4-20*x**3-12*x**2+6*x"
   ]
  },
  {
   "cell_type": "code",
   "execution_count": 3,
   "metadata": {},
   "outputs": [
    {
     "name": "stdout",
     "output_type": "stream",
     "text": [
      "Root is at: 0\n",
      "f(x) at root is: 0\n",
      "Root is at: 0.6286680781673306\n",
      "f(x) at root is: -1.3785387997788945e-06\n",
      "Root is at: 1\n",
      "f(x) at root is: 0\n"
     ]
    }
   ],
   "source": [
    "x0s = [0, .5, 1] # find roots with three initializations\n",
    "for x0 in x0s:\n",
    "    newtons_method(f, df, x0, 1e-5)"
   ]
  }
 ],
 "metadata": {
  "kernelspec": {
   "display_name": "Python 3",
   "language": "python",
   "name": "python3"
  },
  "language_info": {
   "codemirror_mode": {
    "name": "ipython",
    "version": 3
   },
   "file_extension": ".py",
   "mimetype": "text/x-python",
   "name": "python",
   "nbconvert_exporter": "python",
   "pygments_lexer": "ipython3",
   "version": "3.7.3"
  }
 },
 "nbformat": 4,
 "nbformat_minor": 2
}
