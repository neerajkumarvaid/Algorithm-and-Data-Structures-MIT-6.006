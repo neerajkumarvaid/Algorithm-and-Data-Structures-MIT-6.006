{
 "cells": [
  {
   "cell_type": "markdown",
   "metadata": {},
   "source": [
    "# Pseudo Code\n",
    "HEAPSORT(A)\n",
    "1. BUILD_MAX_HEAP(A)\n",
    "2. for i = A.length down to 2\n",
    "3.      exchange A[1] with A[i]\n",
    "4.      A.heap_size = A.heap_size - 1\n",
    "5.      MAX_HEAPIFY(A,1)\n",
    "\n",
    "Above algorithm contains two function calls and the pseudocode for each of these is as follows:\n",
    "\n",
    "BUILD_MAX_HEAP(A)\n",
    "1. A.heapsize = A.length\n",
    "2. for i = floor(A.length/2) down to 1\n",
    "3.      MAX_HEAPIFY(A,i)\n",
    "\n",
    "MAX_HEAPIFY(A,i)\n",
    "1. l = left(i) index of left child rooted at node i = 2i in A\n",
    "2. r = right(i) index of right child rooted at node i = 2i+1 in A\n",
    "3. if l <= A.heap_size and A[l] > A[i]\n",
    "4.     largest = l\n",
    "5. else\n",
    "6.     largest = i\n",
    "7. if r <= A.heap_size  and A[r] > A[i]\n",
    "8.     largest = r\n",
    "9. if largest is not equal to i\n",
    "10.    exchange A[i] with A[largest]\n",
    "11.    MAX_HEAPIFY(A,largest)\n",
    "\n",
    "\n"
   ]
  },
  {
   "cell_type": "code",
   "execution_count": 22,
   "metadata": {},
   "outputs": [],
   "source": [
    "from typing import List\n",
    "\n",
    "def max_heapify(A: List[int],n, i: int):\n",
    "    \"\"\"Modifies the heap to satisfy the heap property at node i\n",
    "    Assumption: The trees rooted at left(i) and right(i) are max_heaps\"\"\"\n",
    "    l = 2*i  + 1# index of left child of node i (2*1)\n",
    "    r = 2*i + 2 # index of right child of node i (2*i + 1)\n",
    "    # find the largest element among A[i], A[l] and A[r]\n",
    "    largest = i\n",
    "    if l < n and A[l] > A[i]:\n",
    "        largest = l\n",
    "    if r < n and  A[r] > A[largest]:\n",
    "        largest = r\n",
    "    # Swap the largest element if the largest element is not at node i\n",
    "    if largest != i:\n",
    "        A[i], A[largest] = A[largest], A[i]     \n",
    "        # recursively apply max_heapify on the remaining (bottom) nodes\n",
    "        max_heapify(A, n, largest)\n",
    "    #return A            "
   ]
  },
  {
   "cell_type": "code",
   "execution_count": 32,
   "metadata": {},
   "outputs": [],
   "source": [
    "def build_max_heap(A: List[int], n: int):\n",
    "    \"\"\"Build a max_heap from an unordered list of integers\"\"\"\n",
    "    for i in range(n, -1, -1):\n",
    "        max_heapify(A,n, i)\n",
    "    return A        "
   ]
  },
  {
   "cell_type": "code",
   "execution_count": 35,
   "metadata": {},
   "outputs": [
    {
     "name": "stdout",
     "output_type": "stream",
     "text": [
      "5: [7, 6, 11, 4, 2, 15]\n",
      "4: [2, 6, 7, 4, 11, 15]\n",
      "3: [4, 6, 2, 7, 11, 15]\n",
      "2: [2, 4, 6, 7, 11, 15]\n",
      "1: [2, 4, 6, 7, 11, 15]\n",
      "Sorted array is [2, 4, 6, 7, 11, 15]\n"
     ]
    }
   ],
   "source": [
    "def heap_sort(A: List[int]):\n",
    "    A = build_max_heap(A, len(A))  \n",
    "    for i in range(len(A)-1, 0, -1):\n",
    "        A[i], A[0] = A[0], A[i]\n",
    "        print(f\"{i}: {A}\")\n",
    "        max_heapify(A, i, 0)\n",
    "    return A\n",
    "\n",
    "A = [7,2,11, 4, 6, 15]\n",
    "print(f\"Sorted array is {heap_sort(A)}\")"
   ]
  },
  {
   "cell_type": "code",
   "execution_count": null,
   "metadata": {},
   "outputs": [],
   "source": []
  }
 ],
 "metadata": {
  "kernelspec": {
   "display_name": "Python 3",
   "language": "python",
   "name": "python3"
  },
  "language_info": {
   "codemirror_mode": {
    "name": "ipython",
    "version": 3
   },
   "file_extension": ".py",
   "mimetype": "text/x-python",
   "name": "python",
   "nbconvert_exporter": "python",
   "pygments_lexer": "ipython3",
   "version": "3.7.3"
  }
 },
 "nbformat": 4,
 "nbformat_minor": 2
}
