{
 "cells": [
  {
   "cell_type": "code",
   "execution_count": 28,
   "metadata": {},
   "outputs": [
    {
     "name": "stdout",
     "output_type": "stream",
     "text": [
      "[1, 2, 2, 3, 4, 5, 7, 7, 9]\n"
     ]
    }
   ],
   "source": [
    "def counting_sort(A, digit, radix):\n",
    "    #\"A\" is a list to be sorted, radix is the base of the number system, digit is the digit\n",
    "    #we want to sort by\n",
    "\n",
    "    #create a list B which will be the sorted list\n",
    "    B = [0]*len(A)\n",
    "    C = [0]*int(radix)\n",
    "    #counts the number of occurences of each digit in A \n",
    "    for i in range(0, len(A)):\n",
    "        digit_of_Ai = int((A[i]/radix**digit)%radix)\n",
    "        C[digit_of_Ai] = C[digit_of_Ai] +1 \n",
    "        #now C[i] is the value of the number of elements in A equal to i\n",
    "\n",
    "    #this FOR loop changes C to show the cumulative # of digits up to that index of C\n",
    "    for j in range(1,radix):\n",
    "        C[j] = C[j] + C[j-1]\n",
    "        #here C is modifed to have the number of elements <= i\n",
    "    #print(C)\n",
    "    for m in range(len(A)-1, -1, -1): #to count down (go through A backwards)\n",
    "        digit_of_Ai = int((A[m]/radix**digit)%radix)\n",
    "        C[digit_of_Ai] = C[digit_of_Ai] -1\n",
    "        B[C[digit_of_Ai]] = A[m]\n",
    "\n",
    "    return B\n",
    "\n",
    "alist = [9,3,1,4,5,7,7,2,2]\n",
    "print(counting_sort(alist,0,10))\n"
   ]
  },
  {
   "cell_type": "code",
   "execution_count": 29,
   "metadata": {},
   "outputs": [
    {
     "data": {
      "text/plain": [
       "[0, 0, 0, 0, 0, 0, 0, 0, 0]"
      ]
     },
     "execution_count": 29,
     "metadata": {},
     "output_type": "execute_result"
    }
   ],
   "source": [
    "A = alist\n",
    "C = [0, 1, 3, 4, 5, 6, 6, 8, 8, 9]\n",
    "B = [0]*len(A)\n",
    "B"
   ]
  },
  {
   "cell_type": "code",
   "execution_count": 30,
   "metadata": {},
   "outputs": [
    {
     "data": {
      "text/plain": [
       "2"
      ]
     },
     "execution_count": 30,
     "metadata": {},
     "output_type": "execute_result"
    }
   ],
   "source": [
    "m = len(A)-1\n",
    "radix = 10\n",
    "digit = 0\n",
    "digit_of_Ai = int((A[m]/radix**digit)%radix)\n",
    "digit_of_Ai"
   ]
  },
  {
   "cell_type": "code",
   "execution_count": 18,
   "metadata": {},
   "outputs": [
    {
     "data": {
      "text/plain": [
       "3"
      ]
     },
     "execution_count": 18,
     "metadata": {},
     "output_type": "execute_result"
    }
   ],
   "source": [
    "C[digit_of_Ai]"
   ]
  },
  {
   "cell_type": "code",
   "execution_count": 19,
   "metadata": {},
   "outputs": [
    {
     "data": {
      "text/plain": [
       "2"
      ]
     },
     "execution_count": 19,
     "metadata": {},
     "output_type": "execute_result"
    }
   ],
   "source": [
    "C[digit_of_Ai] = C[digit_of_Ai] -1\n",
    "C[digit_of_Ai]"
   ]
  },
  {
   "cell_type": "code",
   "execution_count": 20,
   "metadata": {},
   "outputs": [],
   "source": [
    "B[C[digit_of_Ai]] = A[m]"
   ]
  },
  {
   "cell_type": "code",
   "execution_count": 21,
   "metadata": {},
   "outputs": [
    {
     "data": {
      "text/plain": [
       "[0, 0, 2, 0, 0, 0, 0, 0, 0]"
      ]
     },
     "execution_count": 21,
     "metadata": {},
     "output_type": "execute_result"
    }
   ],
   "source": [
    "B"
   ]
  },
  {
   "cell_type": "code",
   "execution_count": 31,
   "metadata": {},
   "outputs": [
    {
     "name": "stdout",
     "output_type": "stream",
     "text": [
      "[1, 8, 10, 100]\n"
     ]
    }
   ],
   "source": [
    "import math\n",
    "def radix_sort(A, radix):\n",
    "    #radix is the base of the number system\n",
    "    #k is the largest number in the list\n",
    "    k = max(A)\n",
    "    #output is the result list we will build\n",
    "    output = A\n",
    "    #compute the number of digits needed to represent k\n",
    "    digits = int(math.floor(math.log(k, radix)+1))\n",
    "    #print(digits)\n",
    "    for i in range(digits):\n",
    "        output = counting_sort(output,i,radix)\n",
    "    return output\n",
    "\n",
    "#A = [9,3,1,4,5,7,7,2,20,55]\n",
    "A = [10,1,100,8]\n",
    "print(radix_sort(A,10))"
   ]
  }
 ],
 "metadata": {
  "kernelspec": {
   "display_name": "Python 3",
   "language": "python",
   "name": "python3"
  },
  "language_info": {
   "codemirror_mode": {
    "name": "ipython",
    "version": 3
   },
   "file_extension": ".py",
   "mimetype": "text/x-python",
   "name": "python",
   "nbconvert_exporter": "python",
   "pygments_lexer": "ipython3",
   "version": "3.7.3"
  }
 },
 "nbformat": 4,
 "nbformat_minor": 2
}
