{
 "cells": [
  {
   "cell_type": "code",
   "execution_count": 1,
   "metadata": {},
   "outputs": [],
   "source": [
    "# Depth first search (or traversal) in a given graph 'G'"
   ]
  },
  {
   "cell_type": "code",
   "execution_count": 52,
   "metadata": {},
   "outputs": [],
   "source": [
    "from collections import defaultdict\n",
    "\n",
    "# This class represents a graph using adjacency list representation\n",
    "class Graph:\n",
    "    # Constructor\n",
    "    def __init__(self):\n",
    "        # Each vertex of graph is represented as a key in the dictionary\n",
    "        # whose value is the list containing all vertices that can be\n",
    "        # reached in one step from that vertex\n",
    "        self.graph = defaultdict(list)\n",
    "        \n",
    "    def addEdge(self, u, v):\n",
    "        \"\"\"A function to add an edge u <-> v to the graph\"\"\"\n",
    "        self.graph[u].append(v)\n",
    "        \n",
    "    def DFS_Visit(self,u, parent):\n",
    "        print(f\"Current node {u}\")\n",
    "\n",
    "        for v in self.graph[u]: # visit all nodes accessible from the new parent\n",
    "            if v not in parent: # if the node is not a parent\n",
    "                parent[v] = u # mark u as the parent of node v\n",
    "                self.DFS_Visit(v, parent) # call the function on all nodes of v\n",
    "    def DFS(self):\n",
    "        parent = {}\n",
    "        for s in self.graph.keys(): # visit all nodes in a graph\n",
    "            if s not in parent: # if the node is not previously visited\n",
    "                parent[s] = None # mark the new node as parent\n",
    "                self.DFS_Visit(s, parent) # visit all node accessible from the new parent node"
   ]
  },
  {
   "cell_type": "code",
   "execution_count": 53,
   "metadata": {},
   "outputs": [],
   "source": [
    "G = Graph()\n",
    "G.addEdge(0,1)\n",
    "G.addEdge(0, 2) \n",
    "G.addEdge(1, 2) \n",
    "G.addEdge(2, 0) \n",
    "G.addEdge(2, 3) \n",
    "G.addEdge(3, 3) "
   ]
  },
  {
   "cell_type": "code",
   "execution_count": 49,
   "metadata": {},
   "outputs": [
    {
     "name": "stdout",
     "output_type": "stream",
     "text": [
      "Current node 0\n",
      "Current node 1\n",
      "Current node 2\n",
      "Current node 3\n"
     ]
    }
   ],
   "source": [
    "G.DFS()"
   ]
  }
 ],
 "metadata": {
  "kernelspec": {
   "display_name": "Python 3",
   "language": "python",
   "name": "python3"
  },
  "language_info": {
   "codemirror_mode": {
    "name": "ipython",
    "version": 3
   },
   "file_extension": ".py",
   "mimetype": "text/x-python",
   "name": "python",
   "nbconvert_exporter": "python",
   "pygments_lexer": "ipython3",
   "version": "3.7.3"
  }
 },
 "nbformat": 4,
 "nbformat_minor": 2
}
